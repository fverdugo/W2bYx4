{
 "cells": [
  {
   "cell_type": "markdown",
   "id": "babf8079",
   "metadata": {},
   "source": [
    "# Hello, world!"
   ]
  },
  {
   "cell_type": "code",
   "execution_count": null,
   "id": "f71f2545",
   "metadata": {},
   "outputs": [],
   "source": [
    "] add Distributed"
   ]
  },
  {
   "cell_type": "code",
   "execution_count": null,
   "id": "4d6b67b6",
   "metadata": {},
   "outputs": [],
   "source": [
    "] add https://github.com/fverdugo/W2bYx4.git"
   ]
  },
  {
   "cell_type": "code",
   "execution_count": null,
   "id": "815d977e",
   "metadata": {},
   "outputs": [],
   "source": [
    "using W2bYx4"
   ]
  },
  {
   "cell_type": "code",
   "execution_count": null,
   "id": "2cf68b65",
   "metadata": {},
   "outputs": [],
   "source": [
    "W2bYx4.greet()"
   ]
  },
  {
   "cell_type": "markdown",
   "id": "81236a40",
   "metadata": {},
   "source": [
    "This is an attached picture:"
   ]
  },
  {
   "attachments": {
    "logo.png": {
     "image/png": "[encoded data removed]"
    }
   },
   "cell_type": "markdown",
   "id": "7c2e8d25",
   "metadata": {},
   "source": [
    "\n",
    " <div>\n",
    "<img src=\"attachment:logo.png\" align=\"left\" width=\"200\"/>\n",
    "</div>\n"
   ]
  },
  {
   "cell_type": "markdown",
   "id": "0d36cf9e",
   "metadata": {},
   "source": [
    "This is a linked picture:"
   ]
  },
  {
   "cell_type": "markdown",
   "id": "0b541664",
   "metadata": {},
   "source": [
    "<div>\n",
    "<img src=\"https://raw.githubusercontent.com/fverdugo/W2bYx4/main/notebooks/figures/logo.png\" align=\"left\" width=\"200\"/>\n",
    "</div>\n"
   ]
  },
  {
   "cell_type": "markdown",
   "id": "cae7f8ac",
   "metadata": {},
   "source": [
    "```julia\n",
    "julia> 1 + 1\n",
    "```"
   ]
  },
  {
   "cell_type": "code",
   "execution_count": null,
   "id": "6603cd99",
   "metadata": {},
   "outputs": [],
   "source": [
    "1+1"
   ]
  },
  {
   "cell_type": "markdown",
   "id": "c3b59ed4",
   "metadata": {},
   "source": [
    "<div class=\"alert alert-block alert-warning\">\n",
    "<b>Warning:</b> Make sure that the file <code>\"hello.jl\"</code> is located in the current working directory of your Julia session.\n",
    "</div>"
   ]
  },
  {
   "cell_type": "markdown",
   "id": "5b3e3d68",
   "metadata": {},
   "source": [
    "<div class=\"alert alert-block alert-info\">\n",
    "<b>Tip:</b> Avoid calling Julia code from the terminal\n",
    "</div>"
   ]
  },
  {
   "cell_type": "code",
   "execution_count": null,
   "id": "b7267f6e",
   "metadata": {},
   "outputs": [],
   "source": []
  }
 ],
 "metadata": {
  "kernelspec": {
   "display_name": "Julia 1.9.0",
   "language": "julia",
   "name": "julia-1.9"
  },
  "language_info": {
   "file_extension": ".jl",
   "mimetype": "application/julia",
   "name": "julia",
   "version": "1.9.0"
  }
 },
 "nbformat": 4,
 "nbformat_minor": 5
}
